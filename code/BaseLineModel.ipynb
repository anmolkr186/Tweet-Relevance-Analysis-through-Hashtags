{
  "nbformat": 4,
  "nbformat_minor": 0,
  "metadata": {
    "colab": {
      "name": "BaseLineModel.ipynb",
      "provenance": [],
      "collapsed_sections": []
    },
    "kernelspec": {
      "name": "python3",
      "display_name": "Python 3"
    },
    "language_info": {
      "name": "python"
    }
  },
  "cells": [
    {
      "cell_type": "code",
      "metadata": {
        "id": "3FL-PEzKAyd0",
        "colab": {
          "base_uri": "https://localhost:8080/"
        },
        "outputId": "1d7f4bed-979a-45f7-8874-e4e532f36625"
      },
      "source": [
        "from google.colab import drive\n",
        "drive.mount('/content/gdrive')"
      ],
      "execution_count": 28,
      "outputs": [
        {
          "output_type": "stream",
          "text": [
            "Drive already mounted at /content/gdrive; to attempt to forcibly remount, call drive.mount(\"/content/gdrive\", force_remount=True).\n"
          ],
          "name": "stdout"
        }
      ]
    },
    {
      "cell_type": "code",
      "metadata": {
        "colab": {
          "base_uri": "https://localhost:8080/"
        },
        "id": "tHqZ4BXsDLmJ",
        "outputId": "609ee8be-63f5-4e2e-93ca-011019c9b752"
      },
      "source": [
        "#don't run this part\n",
        "%cd gdrive/My\\ Drive/data"
      ],
      "execution_count": 29,
      "outputs": [
        {
          "output_type": "stream",
          "text": [
            "[Errno 2] No such file or directory: 'gdrive/My Drive/data'\n",
            "/content/gdrive/My Drive/data\n"
          ],
          "name": "stdout"
        }
      ]
    },
    {
      "cell_type": "code",
      "metadata": {
        "id": "C56H-HECDOdi"
      },
      "source": [
        "import tweepy\n",
        "import json\n",
        "import pandas as pd\n",
        "import csv\n",
        "import numpy as np\n",
        "import matplotlib.pyplot as plt"
      ],
      "execution_count": 102,
      "outputs": []
    },
    {
      "cell_type": "code",
      "metadata": {
        "colab": {
          "base_uri": "https://localhost:8080/",
          "height": 450
        },
        "id": "gduv-6VnDbmC",
        "outputId": "922a37ae-396b-4d7b-d192-79dd53f3920b"
      },
      "source": [
        "WorldPoetryDay = pd.read_csv('WorldPoetryDay.csv')\n",
        "WorldPoetryDay = WorldPoetryDay.iloc[:1072,:]\n",
        "WorldPoetryDay.head()"
      ],
      "execution_count": 103,
      "outputs": [
        {
          "output_type": "execute_result",
          "data": {
            "text/html": [
              "<div>\n",
              "<style scoped>\n",
              "    .dataframe tbody tr th:only-of-type {\n",
              "        vertical-align: middle;\n",
              "    }\n",
              "\n",
              "    .dataframe tbody tr th {\n",
              "        vertical-align: top;\n",
              "    }\n",
              "\n",
              "    .dataframe thead th {\n",
              "        text-align: right;\n",
              "    }\n",
              "</style>\n",
              "<table border=\"1\" class=\"dataframe\">\n",
              "  <thead>\n",
              "    <tr style=\"text-align: right;\">\n",
              "      <th></th>\n",
              "      <th>Label</th>\n",
              "      <th>created_at</th>\n",
              "      <th>id</th>\n",
              "      <th>id_str</th>\n",
              "      <th>full_text</th>\n",
              "      <th>truncated</th>\n",
              "      <th>display_text_range</th>\n",
              "      <th>entities</th>\n",
              "      <th>metadata</th>\n",
              "      <th>source</th>\n",
              "      <th>in_reply_to_status_id</th>\n",
              "      <th>in_reply_to_status_id_str</th>\n",
              "      <th>in_reply_to_user_id</th>\n",
              "      <th>in_reply_to_user_id_str</th>\n",
              "      <th>in_reply_to_screen_name</th>\n",
              "      <th>user</th>\n",
              "      <th>geo</th>\n",
              "      <th>coordinates</th>\n",
              "      <th>place</th>\n",
              "      <th>contributors</th>\n",
              "      <th>retweeted_status</th>\n",
              "      <th>is_quote_status</th>\n",
              "      <th>retweet_count</th>\n",
              "      <th>favorite_count</th>\n",
              "      <th>favorited</th>\n",
              "      <th>retweeted</th>\n",
              "      <th>lang</th>\n",
              "      <th>Unnamed: 27</th>\n",
              "      <th>Unnamed: 28</th>\n",
              "      <th>Unnamed: 29</th>\n",
              "      <th>Unnamed: 30</th>\n",
              "    </tr>\n",
              "  </thead>\n",
              "  <tbody>\n",
              "    <tr>\n",
              "      <th>0</th>\n",
              "      <td>1.0</td>\n",
              "      <td>Sun Mar 21 11:43:58 +0000 2021</td>\n",
              "      <td>1.373600e+18</td>\n",
              "      <td>1.373600e+18</td>\n",
              "      <td>RT @tcddublin: Brendan Kennelly was Professor ...</td>\n",
              "      <td>False</td>\n",
              "      <td>[0, 140]</td>\n",
              "      <td>{'hashtags': [{'text': 'WorldPoetryDay', 'indi...</td>\n",
              "      <td>{'iso_language_code': 'en', 'result_type': 're...</td>\n",
              "      <td>&lt;a href=\"http://twitter.com/download/iphone\" r...</td>\n",
              "      <td>NaN</td>\n",
              "      <td>NaN</td>\n",
              "      <td>NaN</td>\n",
              "      <td>NaN</td>\n",
              "      <td>NaN</td>\n",
              "      <td>{'id': 950026288923856896, 'id_str': '95002628...</td>\n",
              "      <td>NaN</td>\n",
              "      <td>NaN</td>\n",
              "      <td>NaN</td>\n",
              "      <td>NaN</td>\n",
              "      <td>{'created_at': 'Sun Mar 21 09:24:01 +0000 2021...</td>\n",
              "      <td>FALSE</td>\n",
              "      <td>19</td>\n",
              "      <td>0</td>\n",
              "      <td>FALSE</td>\n",
              "      <td>FALSE</td>\n",
              "      <td>en</td>\n",
              "      <td>NaN</td>\n",
              "      <td>NaN</td>\n",
              "      <td>NaN</td>\n",
              "      <td>NaN</td>\n",
              "    </tr>\n",
              "    <tr>\n",
              "      <th>1</th>\n",
              "      <td>1.0</td>\n",
              "      <td>Sun Mar 21 11:43:57 +0000 2021</td>\n",
              "      <td>1.373600e+18</td>\n",
              "      <td>1.373600e+18</td>\n",
              "      <td>RT @mariecurieuk: Taken from the beautiful poe...</td>\n",
              "      <td>False</td>\n",
              "      <td>[0, 140]</td>\n",
              "      <td>{'hashtags': [], 'symbols': [], 'user_mentions...</td>\n",
              "      <td>{'iso_language_code': 'en', 'result_type': 're...</td>\n",
              "      <td>&lt;a href=\"http://twitter.com/#!/download/ipad\" ...</td>\n",
              "      <td>NaN</td>\n",
              "      <td>NaN</td>\n",
              "      <td>NaN</td>\n",
              "      <td>NaN</td>\n",
              "      <td>NaN</td>\n",
              "      <td>{'id': 1236777923065139201, 'id_str': '1236777...</td>\n",
              "      <td>NaN</td>\n",
              "      <td>NaN</td>\n",
              "      <td>NaN</td>\n",
              "      <td>NaN</td>\n",
              "      <td>{'created_at': 'Sun Mar 21 11:08:01 +0000 2021...</td>\n",
              "      <td>FALSE</td>\n",
              "      <td>2</td>\n",
              "      <td>0</td>\n",
              "      <td>FALSE</td>\n",
              "      <td>FALSE</td>\n",
              "      <td>en</td>\n",
              "      <td>NaN</td>\n",
              "      <td>NaN</td>\n",
              "      <td>NaN</td>\n",
              "      <td>NaN</td>\n",
              "    </tr>\n",
              "    <tr>\n",
              "      <th>2</th>\n",
              "      <td>1.0</td>\n",
              "      <td>Sun Mar 21 11:43:55 +0000 2021</td>\n",
              "      <td>1.373600e+18</td>\n",
              "      <td>1.373600e+18</td>\n",
              "      <td>\"This is an edge / where the pen runs dumb.\"\\n...</td>\n",
              "      <td>False</td>\n",
              "      <td>[0, 86]</td>\n",
              "      <td>{'hashtags': [{'text': 'WorldPoetryDay', 'indi...</td>\n",
              "      <td>{'media': [{'id': 1373601257844318208, 'id_str...</td>\n",
              "      <td>{'iso_language_code': 'en', 'result_type': 're...</td>\n",
              "      <td>&lt;a href=\"http://twitter.com/download/android\" ...</td>\n",
              "      <td>NaN</td>\n",
              "      <td>NaN</td>\n",
              "      <td>NaN</td>\n",
              "      <td>NaN</td>\n",
              "      <td>NaN</td>\n",
              "      <td>{'id': 702755917650128897, 'id_str': '70275591...</td>\n",
              "      <td>NaN</td>\n",
              "      <td>NaN</td>\n",
              "      <td>NaN</td>\n",
              "      <td>NaN</td>\n",
              "      <td>FALSE</td>\n",
              "      <td>0</td>\n",
              "      <td>0</td>\n",
              "      <td>FALSE</td>\n",
              "      <td>FALSE</td>\n",
              "      <td>FALSE</td>\n",
              "      <td>en</td>\n",
              "      <td>NaN</td>\n",
              "      <td>NaN</td>\n",
              "      <td>NaN</td>\n",
              "    </tr>\n",
              "    <tr>\n",
              "      <th>3</th>\n",
              "      <td>1.0</td>\n",
              "      <td>Sun Mar 21 11:43:54 +0000 2021</td>\n",
              "      <td>1.373600e+18</td>\n",
              "      <td>1.373600e+18</td>\n",
              "      <td>RT @ClarenceHouse: Happy #WorldPoetryDay!\\n\\nL...</td>\n",
              "      <td>False</td>\n",
              "      <td>[0, 140]</td>\n",
              "      <td>{'hashtags': [{'text': 'WorldPoetryDay', 'indi...</td>\n",
              "      <td>{'iso_language_code': 'en', 'result_type': 're...</td>\n",
              "      <td>&lt;a href=\"http://twitter.com/download/iphone\" r...</td>\n",
              "      <td>NaN</td>\n",
              "      <td>NaN</td>\n",
              "      <td>NaN</td>\n",
              "      <td>NaN</td>\n",
              "      <td>NaN</td>\n",
              "      <td>{'id': 2479233234, 'id_str': '2479233234', 'na...</td>\n",
              "      <td>NaN</td>\n",
              "      <td>NaN</td>\n",
              "      <td>NaN</td>\n",
              "      <td>NaN</td>\n",
              "      <td>{'created_at': 'Sun Mar 21 09:22:33 +0000 2021...</td>\n",
              "      <td>FALSE</td>\n",
              "      <td>102</td>\n",
              "      <td>0</td>\n",
              "      <td>FALSE</td>\n",
              "      <td>FALSE</td>\n",
              "      <td>en</td>\n",
              "      <td>NaN</td>\n",
              "      <td>NaN</td>\n",
              "      <td>NaN</td>\n",
              "      <td>NaN</td>\n",
              "    </tr>\n",
              "    <tr>\n",
              "      <th>4</th>\n",
              "      <td>1.0</td>\n",
              "      <td>Sun Mar 21 11:43:53 +0000 2021</td>\n",
              "      <td>1.373600e+18</td>\n",
              "      <td>1.373600e+18</td>\n",
              "      <td>RT @UN_Women: The span of my hips, \\nThe strid...</td>\n",
              "      <td>False</td>\n",
              "      <td>[0, 139]</td>\n",
              "      <td>{'hashtags': [], 'symbols': [], 'user_mentions...</td>\n",
              "      <td>{'iso_language_code': 'en', 'result_type': 're...</td>\n",
              "      <td>&lt;a href=\"https://mobile.twitter.com\" rel=\"nofo...</td>\n",
              "      <td>NaN</td>\n",
              "      <td>NaN</td>\n",
              "      <td>NaN</td>\n",
              "      <td>NaN</td>\n",
              "      <td>NaN</td>\n",
              "      <td>{'id': 1361696916850028547, 'id_str': '1361696...</td>\n",
              "      <td>NaN</td>\n",
              "      <td>NaN</td>\n",
              "      <td>NaN</td>\n",
              "      <td>NaN</td>\n",
              "      <td>{'created_at': 'Sun Mar 21 10:35:02 +0000 2021...</td>\n",
              "      <td>FALSE</td>\n",
              "      <td>149</td>\n",
              "      <td>0</td>\n",
              "      <td>FALSE</td>\n",
              "      <td>FALSE</td>\n",
              "      <td>en</td>\n",
              "      <td>NaN</td>\n",
              "      <td>NaN</td>\n",
              "      <td>NaN</td>\n",
              "      <td>NaN</td>\n",
              "    </tr>\n",
              "  </tbody>\n",
              "</table>\n",
              "</div>"
            ],
            "text/plain": [
              "   Label                      created_at  ...  Unnamed: 29  Unnamed: 30\n",
              "0    1.0  Sun Mar 21 11:43:58 +0000 2021  ...          NaN          NaN\n",
              "1    1.0  Sun Mar 21 11:43:57 +0000 2021  ...          NaN          NaN\n",
              "2    1.0  Sun Mar 21 11:43:55 +0000 2021  ...          NaN          NaN\n",
              "3    1.0  Sun Mar 21 11:43:54 +0000 2021  ...          NaN          NaN\n",
              "4    1.0  Sun Mar 21 11:43:53 +0000 2021  ...          NaN          NaN\n",
              "\n",
              "[5 rows x 31 columns]"
            ]
          },
          "metadata": {
            "tags": []
          },
          "execution_count": 103
        }
      ]
    },
    {
      "cell_type": "code",
      "metadata": {
        "colab": {
          "base_uri": "https://localhost:8080/"
        },
        "id": "MYM5_aSvESYX",
        "outputId": "5f44fcf4-f815-4cd9-811e-e21237de4c18"
      },
      "source": [
        "WorldPoetryDayNp = WorldPoetryDay.to_numpy()\n",
        "print(WorldPoetryDay.shape)\n",
        "# X, y = WorldPoetryDayNp[:,[2,4,15,22,23]],WorldPoetryDayNp[:,0]\n",
        "X, y = WorldPoetryDayNp[:,4],WorldPoetryDayNp[:,0]\n",
        "print(X.shape)\n",
        "print(y.shape)\n",
        "Xn = []\n",
        "yn = []\n",
        "for i in range(len(X)):\n",
        "  # print(y[i])\n",
        "  # print(int(y[i]))\n",
        "  if(int(y[i]) >= 2):\n",
        "    continue\n",
        "  else:\n",
        "    Xn.append(X[i])\n",
        "    yn.append(y[i])\n",
        "  # break\n",
        "X = np.array(Xn); y = np.array(yn)\n",
        "print(X.shape)\n",
        "print(y.shape)\n",
        "print(X[:5])\n",
        "print(y[:5])\n",
        "\n",
        "# print(y.unique())"
      ],
      "execution_count": 128,
      "outputs": [
        {
          "output_type": "stream",
          "text": [
            "(1072, 31)\n",
            "(1072,)\n",
            "(1072,)\n",
            "(1070,)\n",
            "(1070,)\n",
            "['RT @tcddublin: Brendan Kennelly was Professor of Modern Literature in Trinity and is one of Ireland’s greatest poets. On #WorldPoetryDay ch…'\n",
            " \"RT @mariecurieuk: Taken from the beautiful poem 'Do Not Stand at My Grave and Weep'.\\n\\nRead six uplifting poems about death that celebrate l…\"\n",
            " '\"This is an edge / where the pen runs dumb.\"\\n\\nReading Moya Cannon on #WorldPoetryDay 🍃 https://t.co/wWMdfrMa41'\n",
            " 'RT @ClarenceHouse: Happy #WorldPoetryDay!\\n\\nListen to The Prince of Wales recite Tintern Abbey by William Wordsworth.\\n\\nThis reading was orig…'\n",
            " \"RT @UN_Women: The span of my hips, \\nThe stride of my step, \\nThe curl of my lips. \\nI'm a woman\\nPhenomenally.\\n\\n- @DrMayaAngelou, whose words…\"]\n",
            "[1. 1. 1. 1. 1.]\n"
          ],
          "name": "stdout"
        }
      ]
    },
    {
      "cell_type": "code",
      "metadata": {
        "colab": {
          "base_uri": "https://localhost:8080/",
          "height": 318
        },
        "id": "9AnnovZpAZTm",
        "outputId": "fbd5e6d9-aebe-4e74-e94b-2df8406d4151"
      },
      "source": [
        "#plotting class frequency\n",
        "label = pd.DataFrame(y)\n",
        "classFreq = label[0].value_counts()\n",
        "print(classFreq)\n",
        "classFreq.plot.barh()\n",
        "plt.show()"
      ],
      "execution_count": 129,
      "outputs": [
        {
          "output_type": "stream",
          "text": [
            "1.0    1008\n",
            "0.0      62\n",
            "Name: 0, dtype: int64\n"
          ],
          "name": "stdout"
        },
        {
          "output_type": "display_data",
          "data": {
            "image/png": "[encoded data removed]",
            "text/plain": [
              "<Figure size 432x288 with 1 Axes>"
            ]
          },
          "metadata": {
            "tags": [],
            "needs_background": "light"
          }
        }
      ]
    },
    {
      "cell_type": "code",
      "metadata": {
        "colab": {
          "base_uri": "https://localhost:8080/"
        },
        "id": "D20ZMCW-A3_o",
        "outputId": "c93f508b-e2f5-47e5-e479-74dfc4795ba1"
      },
      "source": [
        "#down samplling\n",
        "length = len(X)\n",
        "Xn = []; yn = []\n",
        "for i in range(length):\n",
        "  if(y[i] == 0):\n",
        "    yn.append(y[i])\n",
        "    Xn.append(X[i])\n",
        "for i in range(4*len(Xn)+20):\n",
        "  if(y[i] == 1):\n",
        "    yn.append(y[i])\n",
        "    Xn.append(X[i])\n",
        "X = np.array(Xn); y = np.array(yn)\n",
        "print(y)\n"
      ],
      "execution_count": 130,
      "outputs": [
        {
          "output_type": "stream",
          "text": [
            "[0. 0. 0. 0. 0. 0. 0. 0. 0. 0. 0. 0. 0. 0. 0. 0. 0. 0. 0. 0. 0. 0. 0. 0.\n",
            " 0. 0. 0. 0. 0. 0. 0. 0. 0. 0. 0. 0. 0. 0. 0. 0. 0. 0. 0. 0. 0. 0. 0. 0.\n",
            " 0. 0. 0. 0. 0. 0. 0. 0. 0. 0. 0. 0. 0. 0. 1. 1. 1. 1. 1. 1. 1. 1. 1. 1.\n",
            " 1. 1. 1. 1. 1. 1. 1. 1. 1. 1. 1. 1. 1. 1. 1. 1. 1. 1. 1. 1. 1. 1. 1. 1.\n",
            " 1. 1. 1. 1. 1. 1. 1. 1. 1. 1. 1. 1. 1. 1. 1. 1. 1. 1. 1. 1. 1. 1. 1. 1.\n",
            " 1. 1. 1. 1. 1. 1. 1. 1. 1. 1. 1. 1. 1. 1. 1. 1. 1. 1. 1. 1. 1. 1. 1. 1.\n",
            " 1. 1. 1. 1. 1. 1. 1. 1. 1. 1. 1. 1. 1. 1. 1. 1. 1. 1. 1. 1. 1. 1. 1. 1.\n",
            " 1. 1. 1. 1. 1. 1. 1. 1. 1. 1. 1. 1. 1. 1. 1. 1. 1. 1. 1. 1. 1. 1. 1. 1.\n",
            " 1. 1. 1. 1. 1. 1. 1. 1. 1. 1. 1. 1. 1. 1. 1. 1. 1. 1. 1. 1. 1. 1. 1. 1.\n",
            " 1. 1. 1. 1. 1. 1. 1. 1. 1. 1. 1. 1. 1. 1. 1. 1. 1. 1. 1. 1. 1. 1. 1. 1.\n",
            " 1. 1. 1. 1. 1. 1. 1. 1. 1. 1. 1. 1. 1. 1. 1. 1. 1. 1. 1. 1. 1. 1. 1. 1.\n",
            " 1. 1. 1. 1. 1. 1. 1. 1. 1. 1. 1. 1. 1. 1. 1. 1. 1. 1. 1. 1. 1. 1. 1. 1.\n",
            " 1. 1. 1. 1. 1. 1. 1. 1. 1. 1. 1. 1. 1. 1. 1. 1. 1. 1.]\n"
          ],
          "name": "stdout"
        }
      ]
    },
    {
      "cell_type": "code",
      "metadata": {
        "colab": {
          "base_uri": "https://localhost:8080/",
          "height": 318
        },
        "id": "oefKEOQ_GzJQ",
        "outputId": "1c451318-e7fb-485f-94cb-b51ff49d16f2"
      },
      "source": [
        "#plotting class frequency after down samplling\n",
        "label = pd.DataFrame(y)\n",
        "classFreq = label[0].value_counts()\n",
        "print(classFreq)\n",
        "classFreq.plot.barh()\n",
        "plt.show()"
      ],
      "execution_count": 131,
      "outputs": [
        {
          "output_type": "stream",
          "text": [
            "1.0    244\n",
            "0.0     62\n",
            "Name: 0, dtype: int64\n"
          ],
          "name": "stdout"
        },
        {
          "output_type": "display_data",
          "data": {
            "image/png": "[encoded data removed]",
            "text/plain": [
              "<Figure size 432x288 with 1 Axes>"
            ]
          },
          "metadata": {
            "tags": [],
            "needs_background": "light"
          }
        }
      ]
    },
    {
      "cell_type": "code",
      "metadata": {
        "colab": {
          "base_uri": "https://localhost:8080/"
        },
        "id": "yGJ7CTCQvhDb",
        "outputId": "59cc01e0-bd33-4bee-8b7a-9d844c9a3275"
      },
      "source": [
        "import glob\n",
        "import nltk\n",
        "import string\n",
        "import numpy as np\n",
        "nltk.download('punkt')\n",
        "nltk.download('stopwords')\n",
        "nltk.download('wordnet')\n",
        "from nltk.tokenize import word_tokenize\n",
        "from nltk.stem import WordNetLemmatizer\n",
        "from nltk.tokenize import word_tokenize\n",
        "from nltk.corpus import stopwords\n",
        "from nltk.corpus import stopwords\n",
        "stop_words = set(stopwords.words('english'))\n",
        "def preprocessing(doc):\n",
        "  puncd = {  }\n",
        "  for i in string.punctuation:\n",
        "    puncd[i] = ' '\n",
        "  doc = doc.translate(str.maketrans(puncd))                     #replacing the punctuation marks with white spaces. \n",
        "  doc = doc.strip()                                             #removing the extra white space characters. \n",
        "  doc = doc.lower()                                             #making the string to lower case letters. \n",
        "\n",
        "  tokens = word_tokenize(doc)                                         #tokenise the words to a list. \n",
        "  tokens_NoStop = [i for i in tokens if i not in stop_words]                #removing the stop words from the tokenised list. \n",
        "  lemmatizer=WordNetLemmatizer()\n",
        "  lemmedWordtext = []\n",
        "  for i in range(len(tokens_NoStop)):\n",
        "    lemmedWordtext.append(lemmatizer.lemmatize(tokens_NoStop[i]))           #appending the lemmatized word in the list\n",
        "  return lemmedWordtext\n",
        "Xnew = []\n",
        "for i in range(len(X)):\n",
        "  Xnew.append(preprocessing(X[i]))\n",
        "\n",
        "print(Xnew[:5])"
      ],
      "execution_count": 132,
      "outputs": [
        {
          "output_type": "stream",
          "text": [
            "[nltk_data] Downloading package punkt to /root/nltk_data...\n",
            "[nltk_data]   Package punkt is already up-to-date!\n",
            "[nltk_data] Downloading package stopwords to /root/nltk_data...\n",
            "[nltk_data]   Package stopwords is already up-to-date!\n",
            "[nltk_data] Downloading package wordnet to /root/nltk_data...\n",
            "[nltk_data]   Package wordnet is already up-to-date!\n",
            "[['rt', 'enjoyingnorfolk', '’', 'resist', 'coastal', 'vibe', 'worldpoetryday', 'especially', 'seeing', 'season', 'one', 'norfolk', 'amp', 'good', 'podcas…'], ['rt', 'evelyncare', 'worldpoetryday', 'worldpoetryday2021', 'flyqueensanitrynapkins', 'shine', 'period', 'nevergiveup', 'menstruation', 'motivation', 'progr…'], ['rt', 'abdulnassir21', 'abdulatif', 'abdalla', '’', 'kenya', 'twendapi', 'recipe', 'intellectual', 'discourse', 'many', 'university', 'based', 'europe', 'amp', 'h…'], ['rt', 'un', 'woman', 'work', 'equip', 'next', 'generation', 'woman', 'outdo', 'u', 'every', 'field', 'legacy', 'leave', 'behind', '𝘱𝘳𝘰𝘨𝘳𝘦𝘴𝘴…'], ['delving', 'back', 'slow', 'dancer', 'archive', 'worldpoetryday', 'http', 'co', 'wgogd7o4ye', 'http', 'co', 'cro5jshcuc']]\n"
          ],
          "name": "stdout"
        }
      ]
    },
    {
      "cell_type": "code",
      "metadata": {
        "colab": {
          "base_uri": "https://localhost:8080/"
        },
        "id": "ddvZ13lp5IQo",
        "outputId": "9f3017e8-a8f3-44bf-962e-8df2e48d261c"
      },
      "source": [
        "from sklearn.model_selection import train_test_split\n",
        "X_train, X_test, y_train, y_test = train_test_split(X, y, test_size=0.33, stratify = y, random_state=37)\n",
        "print(X_train.shape)\n",
        "print(X_test.shape)"
      ],
      "execution_count": 133,
      "outputs": [
        {
          "output_type": "stream",
          "text": [
            "(205,)\n",
            "(101,)\n"
          ],
          "name": "stdout"
        }
      ]
    },
    {
      "cell_type": "code",
      "metadata": {
        "colab": {
          "base_uri": "https://localhost:8080/"
        },
        "id": "yAt4odW16Qzr",
        "outputId": "42a42114-494a-433b-ec91-f0c30b7edf7d"
      },
      "source": [
        "from sklearn.metrics import accuracy_score\n",
        "from sklearn.metrics import classification_report\n",
        "from sklearn.metrics import confusion_matrix\n",
        "import pickle\n",
        "from sklearn.feature_extraction.text import CountVectorizer\n",
        "vectorizer = CountVectorizer(tokenizer = preprocessing)#,stop_words=stop_words\n",
        "X_trainT = vectorizer.fit_transform(X_train)\n",
        "features = vectorizer.get_feature_names()\n",
        "print(\"No of features after vectorizing X_train:\", len(features))\n",
        "X_testT  = vectorizer.transform(X_test)\n",
        "print(\"shape of X_trainT:\", X_trainT.shape)\n",
        "\n",
        "from sklearn.naive_bayes import MultinomialNB\n",
        "model = MultinomialNB(class_prior = [0.999, 0.001])\n",
        "y_train = y_train.astype('i')\n",
        "print(y_train.dtype)\n",
        "model.fit(X_trainT, y_train)\n",
        "\n",
        "#saving model then reading it again\n",
        "pickle.dump(model, open('baseLineModel.sav', 'wb'))\n",
        "model = pickle.load(open('baseLineModel.sav', 'rb'))\n",
        "\n",
        "y_pred = model.predict(X_testT)\n",
        "print(\"shape of y pred\",y_pred.shape)\n",
        "print(\"shape of y test\",y_test.shape)\n",
        "print(y_pred[:100])\n",
        "print(y_test[:100])\n",
        "y_test = y_test.astype('i')\n",
        "print(\"Accuracy: \",accuracy_score(y_test, y_pred))\n",
        "\n",
        "print(confusion_matrix(y_test, y_pred))\n",
        "\n",
        "print(classification_report(y_test,y_pred))\n",
        "# X_trainT"
      ],
      "execution_count": 136,
      "outputs": [
        {
          "output_type": "stream",
          "text": [
            "No of features after vectorizing X_train: 1228\n",
            "shape of X_trainT: (205, 1228)\n",
            "int32\n",
            "shape of y pred (101,)\n",
            "shape of y test (101,)\n",
            "[1 1 1 0 1 0 0 0 0 1 0 0 0 1 0 1 0 0 0 1 1 0 0 0 1 0 0 1 1 1 0 0 0 0 1 1 1\n",
            " 0 0 0 0 0 0 0 0 0 0 1 0 0 0 1 0 0 0 0 0 1 0 1 1 0 1 0 0 0 0 1 0 0 0 0 1 0\n",
            " 1 0 1 1 1 0 1 0 1 0 1 1 1 0 0 1 1 0 0 0 1 0 1 0 1 1]\n",
            "[1 1 1 1 1 1 1 0 1 1 1 0 0 1 1 1 0 1 1 1 1 1 1 0 1 1 0 1 1 1 1 0 1 1 1 1 1\n",
            " 1 1 1 1 1 0 0 0 1 1 1 1 0 1 1 1 0 1 0 0 1 1 1 1 1 1 1 1 1 1 1 1 1 1 0 1 1\n",
            " 1 0 1 1 1 1 1 0 1 1 1 1 1 1 1 1 1 1 0 0 1 0 1 1 1 1]\n",
            "Accuracy:  0.5841584158415841\n",
            "[[20  0]\n",
            " [42 39]]\n",
            "              precision    recall  f1-score   support\n",
            "\n",
            "           0       0.32      1.00      0.49        20\n",
            "           1       1.00      0.48      0.65        81\n",
            "\n",
            "    accuracy                           0.58       101\n",
            "   macro avg       0.66      0.74      0.57       101\n",
            "weighted avg       0.87      0.58      0.62       101\n",
            "\n"
          ],
          "name": "stdout"
        }
      ]
    },
    {
      "cell_type": "code",
      "metadata": {
        "id": "ghtVkmwmFBqy"
      },
      "source": [
        "# from sklearn.linear_model import LogisticRegression\n",
        "# clf = LogisticRegression(random_state=0).fit(X, y)\n",
        "# clf.predict(X[:2, :])"
      ],
      "execution_count": null,
      "outputs": []
    }
  ]
}